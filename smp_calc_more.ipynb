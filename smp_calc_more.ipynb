{
 "cells": [
  {
   "cell_type": "code",
   "execution_count": 1,
   "metadata": {},
   "outputs": [
    {
     "data": {
      "image/png": "[encoded data removed]",
      "text/latex": [
       "$\\displaystyle \\left[ 1.64493406684823, \\  1.20205690315959, \\  1.08232323371114, \\  1.03692775514337, \\  1.01734306198445, \\  1.00834927738192, \\  1.00407735619794, \\  1.00200839282608\\right]$"
      ],
      "text/plain": [
       "[1.64493406684823, 1.20205690315959, 1.08232323371114, 1.03692775514337, 1.017\n",
       "34306198445, 1.00834927738192, 1.00407735619794, 1.00200839282608]"
      ]
     },
     "execution_count": 1,
     "metadata": {},
     "output_type": "execute_result"
    }
   ],
   "source": [
    "import sympy as smp\n",
    "from sympy.abc import lamda, nu, mu, i, s\n",
    "smp.init_printing(use_unicode=True, use_latex=True)\n",
    "\n",
    "zeta_sum = smp.Sum(1/nu**s, (nu, 1, smp.oo))\n",
    "[zeta_sum.subs({s:k}).evalf() for k in range(2,10)]"
   ]
  },
  {
   "cell_type": "markdown",
   "metadata": {},
   "source": [
    "<h1>CONDITIONAL EXTREMUM</h1>"
   ]
  },
  {
   "cell_type": "markdown",
   "metadata": {},
   "source": [
    "<b>Problem 18</b>"
   ]
  },
  {
   "cell_type": "code",
   "execution_count": 2,
   "metadata": {},
   "outputs": [
    {
     "name": "stdout",
     "output_type": "stream",
     "text": [
      "10*lamda*x + mu + 2*x 10*lamda*y + 2*mu + 2*y -2*lamda*z + 3*mu + 2*z 5*x**2 + 5*y**2 - z**2 x + 2*y + 3*z - 20\n"
     ]
    },
    {
     "data": {
      "image/png": "[encoded data removed]",
      "text/latex": [
       "$\\displaystyle \\left[ \\left\\{ \\lambda : - \\frac{4}{5}, \\  \\mu : -12, \\  x : -2, \\  y : -4, \\  z : 10\\right\\}, \\  \\left\\{ \\lambda : - \\frac{1}{5}, \\  \\mu : 0, \\  x : 4 - 8 i, \\  y : 8 + 4 i, \\  z : 0\\right\\}, \\  \\left\\{ \\lambda : - \\frac{1}{5}, \\  \\mu : 0, \\  x : 4 + 8 i, \\  y : 8 - 4 i, \\  z : 0\\right\\}, \\  \\left\\{ \\lambda : \\frac{1}{10}, \\  \\mu : -3, \\  x : 1, \\  y : 2, \\  z : 5\\right\\}\\right]$"
      ],
      "text/plain": [
       "[{λ: -4/5, μ: -12, x: -2, y: -4, z: 10}, {λ: -1/5, μ: 0, x: 4 - 8⋅ⅈ, y: 8 + 4⋅\n",
       "ⅈ, z: 0}, {λ: -1/5, μ: 0, x: 4 + 8⋅ⅈ, y: 8 - 4⋅ⅈ, z: 0}, {λ: 1/10, μ: -3, x: 1\n",
       ", y: 2, z: 5}]"
      ]
     },
     "execution_count": 2,
     "metadata": {},
     "output_type": "execute_result"
    }
   ],
   "source": [
    "x, y, z, mu, lamda = smp.symbols('x y z mu lamda')\n",
    "f, g, h = smp.symbols('f g h', cls=smp.Function)\n",
    "f = x**2 + y**2 + z**2\n",
    "g = 5*x**2 + 5*y**2 - z**2\n",
    "h = x + 2*y + 3*z - 20\n",
    "\n",
    "f_grad = smp.Matrix([f.diff(x), f.diff(y), f.diff(z)])\n",
    "g_grad = smp.Matrix([g.diff(x), g.diff(y), g.diff(z)])\n",
    "h_grad = smp.Matrix([h.diff(x), h.diff(y), h.diff(z)])\n",
    "eq = f_grad + lamda*g_grad + mu*h_grad\n",
    "print(eq[0], eq[1], eq[2], g, h)\n",
    "\n",
    "sln = smp.solve([eq, g, h])\n",
    "sln"
   ]
  },
  {
   "cell_type": "markdown",
   "metadata": {},
   "source": [
    "<b>Problem 22</b>"
   ]
  },
  {
   "cell_type": "code",
   "execution_count": 3,
   "metadata": {},
   "outputs": [
    {
     "data": {
      "image/png": "[encoded data removed]",
      "text/latex": [
       "$\\displaystyle \\left( \\frac{30 \\sqrt{11}}{11}, \\  - \\frac{30 \\sqrt{11}}{11}\\right)$"
      ],
      "text/plain": [
       "⎛30⋅√11  -30⋅√11 ⎞\n",
       "⎜──────, ────────⎟\n",
       "⎝  11       11   ⎠"
      ]
     },
     "execution_count": 3,
     "metadata": {},
     "output_type": "execute_result"
    }
   ],
   "source": [
    "X = smp.symbols('x1:11')\n",
    "lamda = smp.symbols('lamda')\n",
    "f, g = smp.symbols('f g', cls=smp.Function)\n",
    "\n",
    "f = sum(X)\n",
    "g = 0\n",
    "for i in range(10):\n",
    "    for j in range(i, 10):\n",
    "        g += X[i]*X[j]\n",
    "\n",
    "g = g - 45\n",
    "f_grad = smp.Matrix([f.diff(X[i]) for i in range(10)])\n",
    "g_grad = smp.Matrix([g.diff(X[i]) for i in range(10)])\n",
    "\n",
    "eq = f_grad + lamda*g_grad\n",
    "\n",
    "sln = smp.solve([*eq, g])\n",
    "sln\n",
    "\n",
    "extr_point1, extr_point2 = sln[0], sln[1]\n",
    "del extr_point1[lamda]\n",
    "del extr_point2[lamda]\n",
    "\n",
    "#   VALUES AT EXTREMAS\n",
    "f.subs(extr_point1), f.subs(extr_point2)\n",
    "\n"
   ]
  },
  {
   "cell_type": "markdown",
   "metadata": {},
   "source": [
    "INTEGRAL"
   ]
  },
  {
   "cell_type": "code",
   "execution_count": 4,
   "metadata": {},
   "outputs": [
    {
     "data": {
      "image/png": "[encoded data removed]",
      "text/latex": [
       "$\\displaystyle 1293.90256196475$"
      ],
      "text/plain": [
       "1293.90256196475"
      ]
     },
     "execution_count": 4,
     "metadata": {},
     "output_type": "execute_result"
    }
   ],
   "source": [
    "smp.simplify(smp.Integral(smp.cbrt(1+x**2), (x, 0, 100))).doit().evalf()"
   ]
  },
  {
   "cell_type": "code",
   "execution_count": 5,
   "metadata": {},
   "outputs": [
    {
     "data": {
      "text/plain": [
       "[(),\n",
       " ('a',),\n",
       " ('b',),\n",
       " ('c',),\n",
       " ('a', 'b'),\n",
       " ('a', 'c'),\n",
       " ('b', 'c'),\n",
       " ('a', 'b', 'c')]"
      ]
     },
     "execution_count": 5,
     "metadata": {},
     "output_type": "execute_result"
    }
   ],
   "source": [
    "#SUBSETS\n",
    "list(smp.subsets(['a', 'b', 'c']))"
   ]
  },
  {
   "cell_type": "markdown",
   "metadata": {},
   "source": [
    "<h1>LAMBDIFY</h1>"
   ]
  },
  {
   "cell_type": "code",
   "execution_count": 6,
   "metadata": {},
   "outputs": [
    {
     "data": {
      "text/plain": [
       "(<function _lambdifygenerated(x)>,\n",
       " 1.718281828459045,\n",
       " 22025.465794806718,\n",
       " exp(x) - 1)"
      ]
     },
     "execution_count": 6,
     "metadata": {},
     "output_type": "execute_result"
    }
   ],
   "source": [
    "x, t = smp.symbols('x t')\n",
    "int_exp = smp.integrate(smp.exp(t), (t, 0, x))\n",
    "\n",
    "f = smp.lambdify([x], int_exp)\n",
    "f, f(1), f(10), int_exp"
   ]
  },
  {
   "cell_type": "markdown",
   "metadata": {},
   "source": [
    "<h1>Limit, sequences</h1>\n",
    "Problem 91"
   ]
  },
  {
   "cell_type": "code",
   "execution_count": 7,
   "metadata": {},
   "outputs": [
    {
     "name": "stdout",
     "output_type": "stream",
     "text": [
      "<class 'sympy.series.sequences.SeqFormula'>\n",
      "n**2 oo 0 oo (n,)\n"
     ]
    },
    {
     "data": {
      "image/png": "[encoded data removed]",
      "text/latex": [
       "$\\displaystyle \\left[ 3, \\  -3, \\  1\\right]$"
      ],
      "text/plain": [
       "[3, -3, 1]"
      ]
     },
     "execution_count": 7,
     "metadata": {},
     "output_type": "execute_result"
    }
   ],
   "source": [
    "from sympy import sequence\n",
    "from sympy.abc import n, L\n",
    "\n",
    "squares = sequence(n**2, (n, 0, smp.oo))\n",
    "print(type(squares))\n",
    "print(squares.gen,squares.length,squares.start,squares.stop,squares.variables)\n",
    "\n",
    "squares.find_linear_recurrence(n=100,)\n",
    "\n",
    "# one_to_three = sequence((1,3,5,4))\n",
    "# one_to_three.coeff(2)\n",
    "# print(one_to_three.gen,one_to_three.length,one_to_three.start,one_to_three.stop,one_to_three.variables)\n",
    "\n",
    "\n",
    "\n",
    "# sum_sq = smp.Sum(squares.coeff(j), (j, 0, 10))\n",
    "# sum_sq\n",
    "\n",
    "# a = smp.symbols('a')\n",
    "# L = smp.Limit(smp.Indexed('a',n), n, smp.oo)\n",
    "# mean = 1/n*smp.Sum(smp.Indexed('a',j), (j, 1, n)).doit()\n",
    "# L_mean = smp.Limit(mean, n, smp.oo)\n",
    "\n",
    "# (L - L_mean)\n",
    "\n",
    "# difference = mean - smp.Indexed('a',n)\n",
    "# difference.doit()\n",
    "# smp.Limit(difference, n, smp.oo).doit()\n"
   ]
  },
  {
   "cell_type": "markdown",
   "metadata": {},
   "source": [
    "Power tower simulation"
   ]
  },
  {
   "cell_type": "code",
   "execution_count": 8,
   "metadata": {},
   "outputs": [
    {
     "name": "stdout",
     "output_type": "stream",
     "text": [
      "<class 'function'>\n"
     ]
    },
    {
     "data": {
      "text/plain": [
       "[<matplotlib.lines.Line2D at 0x230196a8110>]"
      ]
     },
     "execution_count": 8,
     "metadata": {},
     "output_type": "execute_result"
    },
    {
     "data": {
      "image/png": "[encoded data removed]",
      "text/plain": [
       "<Figure size 640x480 with 1 Axes>"
      ]
     },
     "metadata": {},
     "output_type": "display_data"
    }
   ],
   "source": [
    "tower = smp.Function('f')\n",
    "tower = x**y\n",
    "for i in range(40):\n",
    "    tower = tower.subs({y:x**y})\n",
    "tower = tower.subs({y:1})\n",
    "\n",
    "tower_f = smp.lambdify(x, tower, 'numpy')\n",
    "print(type(tower_f))\n",
    "\n",
    "a, b, N = 1.4446, 1.45, 1000\n",
    "X = [a+i*(b-a)/N for i in range (N)]\n",
    "f_sample = [tower_f(t) for t in X]\n",
    "\n",
    "import matplotlib.pyplot as plt\n",
    "plt.plot(X, f_sample)"
   ]
  },
  {
   "cell_type": "code",
   "execution_count": 9,
   "metadata": {},
   "outputs": [
    {
     "data": {
      "image/png": "[encoded data removed]",
      "text/latex": [
       "$\\displaystyle x^{x^{x + x^{x + 1} + x^{x + x^{x + 1} + 1} + 1}}$"
      ],
      "text/plain": [
       " ⎛                    x + 1        ⎞\n",
       " ⎜      x + 1    x + x      + 1    ⎟\n",
       " ⎜ x + x      + x               + 1⎟\n",
       " ⎝x                                ⎠\n",
       "x                                   "
      ]
     },
     "execution_count": 9,
     "metadata": {},
     "output_type": "execute_result"
    }
   ],
   "source": [
    "f = smp.symbols('f', cls=smp.Function)\n",
    "f = x**x\n",
    "for i in range(3):\n",
    "    f = f.subs({x:x**x})\n",
    "f, smp.powdenest(f, force=True), smp.powdenest(f, force=True).simplify()\n",
    "smp.powdenest(f, force=True).simplify()"
   ]
  },
  {
   "cell_type": "markdown",
   "metadata": {},
   "source": [
    "<h1>Rewrite</h1>"
   ]
  },
  {
   "cell_type": "code",
   "execution_count": 10,
   "metadata": {},
   "outputs": [
    {
     "name": "stdout",
     "output_type": "stream",
     "text": [
      "\\frac{\\cos{\\left(x - \\frac{\\pi}{2} \\right)}}{\\cos{\\left(x \\right)}}\n"
     ]
    }
   ],
   "source": [
    "print(smp.latex(smp.tan(x).rewrite(smp.cos)))"
   ]
  },
  {
   "cell_type": "code",
   "execution_count": 11,
   "metadata": {},
   "outputs": [
    {
     "data": {
      "image/png": "[encoded data removed]",
      "text/latex": [
       "$\\displaystyle \\frac{n!}{k! \\left(- k + n\\right)!}$"
      ],
      "text/plain": [
       "     n!     \n",
       "────────────\n",
       "k!⋅(-k + n)!"
      ]
     },
     "execution_count": 11,
     "metadata": {},
     "output_type": "execute_result"
    }
   ],
   "source": [
    "smp.binomial('n', 'k').rewrite(smp.factorial)"
   ]
  },
  {
   "cell_type": "code",
   "execution_count": 12,
   "metadata": {},
   "outputs": [
    {
     "data": {
      "image/png": "[encoded data removed]",
      "text/latex": [
       "$\\displaystyle - \\cos{\\left(x \\right)}$"
      ],
      "text/plain": [
       "-cos(x)"
      ]
     },
     "execution_count": 12,
     "metadata": {},
     "output_type": "execute_result"
    }
   ],
   "source": [
    "x = smp.symbols('x')\n",
    "\n",
    "smp.integrate( x/smp.sqrt(x**4+10*x**2-96*x-71), x)\n",
    "smp.integrate((x**2+2*x+1+(3*x+1)*smp.sqrt(x+smp.ln(x)))/(x*smp.sqrt(x+smp.ln(x))*(x+smp.sqrt(x+smp.ln(x)))))\n",
    "smp.Integral(smp.sin(x**2), x).doit()\n",
    "\n",
    "smp.sin(x).integrate(x)"
   ]
  },
  {
   "cell_type": "code",
   "execution_count": 13,
   "metadata": {},
   "outputs": [
    {
     "name": "stdout",
     "output_type": "stream",
     "text": [
      "Limit((x + y)/(x**2 + y**2), x, 0, dir='+-')\n"
     ]
    },
    {
     "data": {
      "image/png": "[encoded data removed]",
      "text/latex": [
       "$\\displaystyle \\left( \\lim_{x \\to 0}\\left(\\frac{x^{10} + x}{x^{20} + x^{2}}\\right), \\  \\tilde{\\infty}\\right)$"
      ],
      "text/plain": [
       "⎛    ⎛ 10     ⎞     ⎞\n",
       "⎜    ⎜x   + x ⎟     ⎟\n",
       "⎜lim ⎜────────⎟, zoo⎟\n",
       "⎜x─→0⎜ 20    2⎟     ⎟\n",
       "⎝    ⎝x   + x ⎠     ⎠"
      ]
     },
     "execution_count": 13,
     "metadata": {},
     "output_type": "execute_result"
    }
   ],
   "source": [
    "y = smp.symbols('y')\n",
    "limit_expr = smp.Limit((x+y)/(x**2+y**2), x, 0, '+-')#.doit()\n",
    "print(limit_expr)\n",
    "\n",
    "limit_expr = limit_expr.subs(y, x**10)\n",
    "limit_expr, limit_expr.doit()"
   ]
  },
  {
   "cell_type": "markdown",
   "metadata": {},
   "source": [
    "<h1>ROOTS</h1>"
   ]
  },
  {
   "cell_type": "code",
   "execution_count": 14,
   "metadata": {},
   "outputs": [
    {
     "data": {
      "image/png": "[encoded data removed]",
      "text/latex": [
       "$\\displaystyle \\left\\{2 n \\pi + \\operatorname{atan}{\\left(\\frac{1 + \\sqrt{7}}{1 - \\sqrt{7}} \\right)} + \\pi\\; \\middle|\\; n \\in \\mathbb{Z}\\right\\} \\cup \\left\\{2 n \\pi + \\operatorname{atan}{\\left(\\frac{1 - \\sqrt{7}}{1 + \\sqrt{7}} \\right)} + 2 \\pi\\; \\middle|\\; n \\in \\mathbb{Z}\\right\\}$"
      ],
      "text/plain": [
       "⎧            ⎛1 + √7⎞     │      ⎫   ⎧            ⎛1 - √7⎞       │      ⎫\n",
       "⎨2⋅n⋅π + atan⎜──────⎟ + π │ n ∊ ℤ⎬ ∪ ⎨2⋅n⋅π + atan⎜──────⎟ + 2⋅π │ n ∊ ℤ⎬\n",
       "⎩            ⎝1 - √7⎠     │      ⎭   ⎩            ⎝1 + √7⎠       │      ⎭"
      ]
     },
     "execution_count": 14,
     "metadata": {},
     "output_type": "execute_result"
    }
   ],
   "source": [
    "import sympy as smp\n",
    "x, y = smp.symbols('x y')\n",
    "\n",
    "smp.solve((x-1)**2, x, dict=True)\n",
    "\n",
    "smp.solve(smp.sin(x), x, dict=True)\n",
    "smp.solveset(smp.sin(x),x)\n",
    "\n",
    "smp.solveset(x**2 - y, x, domain=smp.S.Reals) # returns sympy Set object\n",
    "smp.solve(x**2 - y, x, dict=True) # returns dictionary, which can be substituted\n",
    "\n",
    "smp.solveset(smp.sin(x) + smp.cos(x) - smp.Rational(1,2), x)"
   ]
  },
  {
   "cell_type": "markdown",
   "metadata": {},
   "source": [
    "<h1>LIMIT</h1>"
   ]
  },
  {
   "cell_type": "code",
   "execution_count": 15,
   "metadata": {},
   "outputs": [
    {
     "data": {
      "image/png": "[encoded data removed]",
      "text/latex": [
       "$\\displaystyle -4$"
      ],
      "text/plain": [
       "-4"
      ]
     },
     "execution_count": 15,
     "metadata": {},
     "output_type": "execute_result"
    }
   ],
   "source": [
    "from sympy import *\n",
    "x = symbols('x')\n",
    "Limit((atan(x)*sinh(2*x)-2*x)/((1-tan(x))**(x/2)-(1-2*x)**(1/4)), x, 0).doit()"
   ]
  },
  {
   "cell_type": "markdown",
   "metadata": {},
   "source": [
    "<h1>Riccati DE</h1>"
   ]
  },
  {
   "cell_type": "code",
   "execution_count": 16,
   "metadata": {},
   "outputs": [
    {
     "data": {
      "image/png": "[encoded data removed]",
      "text/latex": [
       "$\\displaystyle y{\\left(x \\right)} = \\frac{x \\left(C_{1} \\cdot \\left(1 + \\sqrt{3} i\\right) + \\left(-1 + \\sqrt{3} i\\right) e^{\\sqrt{3} i \\log{\\left(x \\right)}}\\right)}{2 \\left(C_{1} - e^{\\sqrt{3} i \\log{\\left(x \\right)}}\\right)}$"
      ],
      "text/plain": [
       "         ⎛                             √3⋅ⅈ⋅log(x)⎞\n",
       "       x⋅⎝C₁⋅(1 + √3⋅ⅈ) + (-1 + √3⋅ⅈ)⋅ℯ           ⎠\n",
       "y(x) = ────────────────────────────────────────────\n",
       "                    ⎛      √3⋅ⅈ⋅log(x)⎞            \n",
       "                  2⋅⎝C₁ - ℯ           ⎠            "
      ]
     },
     "execution_count": 16,
     "metadata": {},
     "output_type": "execute_result"
    }
   ],
   "source": [
    "x = symbols('x')\n",
    "y = symbols('y', cls=Function)\n",
    "y=y(x)\n",
    "dsolve(x**2*y.diff(x)-y**2-x**2, y)"
   ]
  },
  {
   "cell_type": "markdown",
   "metadata": {},
   "source": [
    "<h1>Clairaut DE</h1>\n",
    "Sympy cannot do it"
   ]
  },
  {
   "cell_type": "code",
   "execution_count": 17,
   "metadata": {},
   "outputs": [
    {
     "data": {
      "image/png": "[encoded data removed]",
      "text/latex": [
       "$\\displaystyle x \\frac{d}{d x} y{\\left(x \\right)} - y{\\left(x \\right)} + \\sin{\\left(\\frac{d}{d x} y{\\left(x \\right)} \\right)} = 0$"
      ],
      "text/plain": [
       "  d                    ⎛d       ⎞    \n",
       "x⋅──(y(x)) - y(x) + sin⎜──(y(x))⎟ = 0\n",
       "  dx                   ⎝dx      ⎠    "
      ]
     },
     "execution_count": 17,
     "metadata": {},
     "output_type": "execute_result"
    }
   ],
   "source": [
    "from sympy import *\n",
    "x = symbols('x')\n",
    "y = symbols('y', cls=Function)\n",
    "y = y(x)\n",
    "\n",
    "equat =  Eq(-y+x*y.diff(x)+smp.sin(y.diff(x)), 0)\n",
    "equat\n",
    "# dsolve(equat, y)"
   ]
  },
  {
   "cell_type": "markdown",
   "metadata": {},
   "source": [
    "<h1> Finite differences </h1>"
   ]
  },
  {
   "cell_type": "markdown",
   "metadata": {},
   "source": [
    "Calculate difference quotients $ \\frac{f(x_{i+1})-f(x_i)}{x_{i+1} - x_i} $ -> derivative at midpoint $ \\frac{x_{i+1} + x_i}{2} $\n",
    "\n",
    "Interpolate the <b>first derivative</b> with these new nodes: $ \\frac{x_{i+1} + x_i}{2} $ and values at them: $ \\frac{f(x_{i+1})-f(x_i)}{x_{i+1} - x_i} $"
   ]
  },
  {
   "cell_type": "code",
   "execution_count": 18,
   "metadata": {},
   "outputs": [
    {
     "data": {
      "image/png": "[encoded data removed]",
      "text/latex": [
       "$\\displaystyle \\frac{2}{\\pi}$"
      ],
      "text/plain": [
       "2\n",
       "─\n",
       "π"
      ]
     },
     "execution_count": 18,
     "metadata": {},
     "output_type": "execute_result"
    }
   ],
   "source": [
    "# smp.differentiate_finite(x**3, x, points=[-1, 0, 2, 5])#.expand().collect(x)\n",
    "smp.differentiate_finite(smp.sin(x), x, points=[-smp.pi/2, 0, smp.pi/2]).expand().collect(x)"
   ]
  },
  {
   "cell_type": "markdown",
   "metadata": {},
   "source": [
    "Calculate value of <b>n-th derivative</b> at a point using finite diff approx"
   ]
  },
  {
   "cell_type": "code",
   "execution_count": 19,
   "metadata": {},
   "outputs": [
    {
     "data": {
      "image/png": "[encoded data removed]",
      "text/latex": [
       "$\\displaystyle 0.636619772367581$"
      ],
      "text/plain": [
       "0.636619772367581"
      ]
     },
     "execution_count": 19,
     "metadata": {},
     "output_type": "execute_result"
    }
   ],
   "source": [
    "import numpy as np\n",
    "x_list = [-np.pi/2, 0, np.pi/2]\n",
    "smp.apply_finite_diff(1, x_list, np.sin(x_list), 0)"
   ]
  },
  {
   "cell_type": "markdown",
   "metadata": {},
   "source": [
    "Calculates the <b>finite difference weights</b> for an arbitrarily spaced one-dimensional grid (x_list) for derivatives at $ x_0 $ of order $ 0, 1, …, $ up to order using a recursive formula.\n",
    "\n",
    "This is like coefficients in Newton-Cotes quadratures.\n",
    "\n",
    "Find general nterpolation formula on given nodes, then differenciate the interpolating polynomial"
   ]
  },
  {
   "cell_type": "code",
   "execution_count": 20,
   "metadata": {},
   "outputs": [
    {
     "data": {
      "image/png": "[encoded data removed]",
      "text/latex": [
       "$\\displaystyle \\left[ \\left[ \\left[ 1, \\  0, \\  0\\right], \\  \\left[ 1, \\  0, \\  0\\right], \\  \\left[ 1, \\  0, \\  0\\right]\\right], \\  \\left[ \\left[ 0, \\  0, \\  0\\right], \\  \\left[ - \\frac{1}{h}, \\  \\frac{1}{h}, \\  0\\right], \\  \\left[ - \\frac{3}{2 h}, \\  \\frac{2}{h}, \\  - \\frac{1}{2 h}\\right]\\right]\\right]$"
      ],
      "text/plain": [
       "⎡                                   ⎡           ⎡-1   1   ⎤  ⎡-3   2  -1 ⎤⎤⎤\n",
       "⎢[[1, 0, 0], [1, 0, 0], [1, 0, 0]], ⎢[0, 0, 0], ⎢───, ─, 0⎥, ⎢───, ─, ───⎥⎥⎥\n",
       "⎣                                   ⎣           ⎣ h   h   ⎦  ⎣2⋅h  h  2⋅h⎦⎦⎦"
      ]
     },
     "execution_count": 20,
     "metadata": {},
     "output_type": "execute_result"
    }
   ],
   "source": [
    "a, b, c, h = smp.symbols('a b c h')\n",
    "x_list = [a, a+h, a+2*h]\n",
    "\n",
    "smp.finite_diff_weights(1, x_list, a)"
   ]
  },
  {
   "cell_type": "markdown",
   "metadata": {},
   "source": [
    "Function range"
   ]
  },
  {
   "cell_type": "code",
   "execution_count": 21,
   "metadata": {},
   "outputs": [
    {
     "data": {
      "image/png": "[encoded data removed]",
      "text/latex": [
       "$\\displaystyle \\left[0, \\frac{\\pi^{2}}{4}\\right]$"
      ],
      "text/plain": [
       "⎡    2⎤\n",
       "⎢   π ⎥\n",
       "⎢0, ──⎥\n",
       "⎣   4 ⎦"
      ]
     },
     "execution_count": 21,
     "metadata": {},
     "output_type": "execute_result"
    }
   ],
   "source": [
    "from sympy.calculus.util import function_range\n",
    "function_range(x**2, x, Interval(0, smp.pi/2))"
   ]
  },
  {
   "cell_type": "markdown",
   "metadata": {},
   "source": [
    "<h1>Coord system</h1>"
   ]
  },
  {
   "cell_type": "markdown",
   "metadata": {},
   "source": [
    "Differential operators"
   ]
  },
  {
   "cell_type": "code",
   "execution_count": 22,
   "metadata": {},
   "outputs": [
    {
     "data": {
      "image/png": "[encoded data removed]",
      "text/latex": [
       "$\\displaystyle \\left( \\frac{\\partial^{2}}{\\partial \\mathbf{{x}_{}}^{2}} f{\\left(\\mathbf{{x}_{}},\\mathbf{{y}_{}},\\mathbf{{z}_{}} \\right)} + \\frac{\\partial^{2}}{\\partial \\mathbf{{y}_{}}^{2}} f{\\left(\\mathbf{{x}_{}},\\mathbf{{y}_{}},\\mathbf{{z}_{}} \\right)} + \\frac{\\partial^{2}}{\\partial \\mathbf{{z}_{}}^{2}} f{\\left(\\mathbf{{x}_{}},\\mathbf{{y}_{}},\\mathbf{{z}_{}} \\right)}, \\  0, \\  \\mathbf{\\hat{0}}, \\  \\left(\\frac{\\partial^{4}}{\\partial \\mathbf{{y}_{}}^{4}} P{\\left(\\mathbf{{x}_{}},\\mathbf{{y}_{}},\\mathbf{{z}_{}} \\right)} + \\frac{\\partial^{4}}{\\partial \\mathbf{{z}_{}}^{4}} P{\\left(\\mathbf{{x}_{}},\\mathbf{{y}_{}},\\mathbf{{z}_{}} \\right)} + \\frac{\\partial^{4}}{\\partial \\mathbf{{y}_{}}^{2}\\partial \\mathbf{{x}_{}}^{2}} P{\\left(\\mathbf{{x}_{}},\\mathbf{{y}_{}},\\mathbf{{z}_{}} \\right)} + \\frac{\\partial^{4}}{\\partial \\mathbf{{z}_{}}^{2}\\partial \\mathbf{{x}_{}}^{2}} P{\\left(\\mathbf{{x}_{}},\\mathbf{{y}_{}},\\mathbf{{z}_{}} \\right)} + 2 \\frac{\\partial^{4}}{\\partial \\mathbf{{z}_{}}^{2}\\partial \\mathbf{{y}_{}}^{2}} P{\\left(\\mathbf{{x}_{}},\\mathbf{{y}_{}},\\mathbf{{z}_{}} \\right)} - \\frac{\\partial^{4}}{\\partial \\mathbf{{y}_{}}^{3}\\partial \\mathbf{{x}_{}}} Q{\\left(\\mathbf{{x}_{}},\\mathbf{{y}_{}},\\mathbf{{z}_{}} \\right)} - \\frac{\\partial^{4}}{\\partial \\mathbf{{y}_{}}\\partial \\mathbf{{x}_{}}^{3}} Q{\\left(\\mathbf{{x}_{}},\\mathbf{{y}_{}},\\mathbf{{z}_{}} \\right)} - \\frac{\\partial^{4}}{\\partial \\mathbf{{z}_{}}^{3}\\partial \\mathbf{{x}_{}}} R{\\left(\\mathbf{{x}_{}},\\mathbf{{y}_{}},\\mathbf{{z}_{}} \\right)} - \\frac{\\partial^{4}}{\\partial \\mathbf{{z}_{}}\\partial \\mathbf{{x}_{}}^{3}} R{\\left(\\mathbf{{x}_{}},\\mathbf{{y}_{}},\\mathbf{{z}_{}} \\right)} - \\frac{\\partial^{4}}{\\partial \\mathbf{{z}_{}}^{2}\\partial \\mathbf{{y}_{}}\\partial \\mathbf{{x}_{}}} Q{\\left(\\mathbf{{x}_{}},\\mathbf{{y}_{}},\\mathbf{{z}_{}} \\right)} - \\frac{\\partial^{4}}{\\partial \\mathbf{{z}_{}}\\partial \\mathbf{{y}_{}}^{2}\\partial \\mathbf{{x}_{}}} R{\\left(\\mathbf{{x}_{}},\\mathbf{{y}_{}},\\mathbf{{z}_{}} \\right)}\\right)\\mathbf{\\hat{i}_{}} + \\left(\\frac{\\partial^{4}}{\\partial \\mathbf{{x}_{}}^{4}} Q{\\left(\\mathbf{{x}_{}},\\mathbf{{y}_{}},\\mathbf{{z}_{}} \\right)} + \\frac{\\partial^{4}}{\\partial \\mathbf{{z}_{}}^{4}} Q{\\left(\\mathbf{{x}_{}},\\mathbf{{y}_{}},\\mathbf{{z}_{}} \\right)} - \\frac{\\partial^{4}}{\\partial \\mathbf{{y}_{}}^{3}\\partial \\mathbf{{x}_{}}} P{\\left(\\mathbf{{x}_{}},\\mathbf{{y}_{}},\\mathbf{{z}_{}} \\right)} - \\frac{\\partial^{4}}{\\partial \\mathbf{{y}_{}}\\partial \\mathbf{{x}_{}}^{3}} P{\\left(\\mathbf{{x}_{}},\\mathbf{{y}_{}},\\mathbf{{z}_{}} \\right)} + \\frac{\\partial^{4}}{\\partial \\mathbf{{y}_{}}^{2}\\partial \\mathbf{{x}_{}}^{2}} Q{\\left(\\mathbf{{x}_{}},\\mathbf{{y}_{}},\\mathbf{{z}_{}} \\right)} + 2 \\frac{\\partial^{4}}{\\partial \\mathbf{{z}_{}}^{2}\\partial \\mathbf{{x}_{}}^{2}} Q{\\left(\\mathbf{{x}_{}},\\mathbf{{y}_{}},\\mathbf{{z}_{}} \\right)} + \\frac{\\partial^{4}}{\\partial \\mathbf{{z}_{}}^{2}\\partial \\mathbf{{y}_{}}^{2}} Q{\\left(\\mathbf{{x}_{}},\\mathbf{{y}_{}},\\mathbf{{z}_{}} \\right)} - \\frac{\\partial^{4}}{\\partial \\mathbf{{z}_{}}^{3}\\partial \\mathbf{{y}_{}}} R{\\left(\\mathbf{{x}_{}},\\mathbf{{y}_{}},\\mathbf{{z}_{}} \\right)} - \\frac{\\partial^{4}}{\\partial \\mathbf{{z}_{}}\\partial \\mathbf{{y}_{}}^{3}} R{\\left(\\mathbf{{x}_{}},\\mathbf{{y}_{}},\\mathbf{{z}_{}} \\right)} - \\frac{\\partial^{4}}{\\partial \\mathbf{{z}_{}}^{2}\\partial \\mathbf{{y}_{}}\\partial \\mathbf{{x}_{}}} P{\\left(\\mathbf{{x}_{}},\\mathbf{{y}_{}},\\mathbf{{z}_{}} \\right)} - \\frac{\\partial^{4}}{\\partial \\mathbf{{z}_{}}\\partial \\mathbf{{y}_{}}\\partial \\mathbf{{x}_{}}^{2}} R{\\left(\\mathbf{{x}_{}},\\mathbf{{y}_{}},\\mathbf{{z}_{}} \\right)}\\right)\\mathbf{\\hat{j}_{}} + \\left(\\frac{\\partial^{4}}{\\partial \\mathbf{{x}_{}}^{4}} R{\\left(\\mathbf{{x}_{}},\\mathbf{{y}_{}},\\mathbf{{z}_{}} \\right)} + \\frac{\\partial^{4}}{\\partial \\mathbf{{y}_{}}^{4}} R{\\left(\\mathbf{{x}_{}},\\mathbf{{y}_{}},\\mathbf{{z}_{}} \\right)} - \\frac{\\partial^{4}}{\\partial \\mathbf{{z}_{}}^{3}\\partial \\mathbf{{x}_{}}} P{\\left(\\mathbf{{x}_{}},\\mathbf{{y}_{}},\\mathbf{{z}_{}} \\right)} - \\frac{\\partial^{4}}{\\partial \\mathbf{{z}_{}}\\partial \\mathbf{{x}_{}}^{3}} P{\\left(\\mathbf{{x}_{}},\\mathbf{{y}_{}},\\mathbf{{z}_{}} \\right)} - \\frac{\\partial^{4}}{\\partial \\mathbf{{z}_{}}^{3}\\partial \\mathbf{{y}_{}}} Q{\\left(\\mathbf{{x}_{}},\\mathbf{{y}_{}},\\mathbf{{z}_{}} \\right)} - \\frac{\\partial^{4}}{\\partial \\mathbf{{z}_{}}\\partial \\mathbf{{y}_{}}^{3}} Q{\\left(\\mathbf{{x}_{}},\\mathbf{{y}_{}},\\mathbf{{z}_{}} \\right)} + 2 \\frac{\\partial^{4}}{\\partial \\mathbf{{y}_{}}^{2}\\partial \\mathbf{{x}_{}}^{2}} R{\\left(\\mathbf{{x}_{}},\\mathbf{{y}_{}},\\mathbf{{z}_{}} \\right)} + \\frac{\\partial^{4}}{\\partial \\mathbf{{z}_{}}^{2}\\partial \\mathbf{{x}_{}}^{2}} R{\\left(\\mathbf{{x}_{}},\\mathbf{{y}_{}},\\mathbf{{z}_{}} \\right)} + \\frac{\\partial^{4}}{\\partial \\mathbf{{z}_{}}^{2}\\partial \\mathbf{{y}_{}}^{2}} R{\\left(\\mathbf{{x}_{}},\\mathbf{{y}_{}},\\mathbf{{z}_{}} \\right)} - \\frac{\\partial^{4}}{\\partial \\mathbf{{z}_{}}\\partial \\mathbf{{y}_{}}^{2}\\partial \\mathbf{{x}_{}}} P{\\left(\\mathbf{{x}_{}},\\mathbf{{y}_{}},\\mathbf{{z}_{}} \\right)} - \\frac{\\partial^{4}}{\\partial \\mathbf{{z}_{}}\\partial \\mathbf{{y}_{}}\\partial \\mathbf{{x}_{}}^{2}} Q{\\left(\\mathbf{{x}_{}},\\mathbf{{y}_{}},\\mathbf{{z}_{}} \\right)}\\right)\\mathbf{\\hat{k}_{}}\\right)$"
      ],
      "text/plain": [
       "⎛  2                     2                     2                              \n",
       "⎜ ∂                     ∂                     ∂                               \n",
       "⎜────(f(x_, y_, z_)) + ────(f(x_, y_, z_)) + ────(f(x_, y_, z_)), 0, 0, ⎛  4  \n",
       "⎜   2                     2                     2                       ⎜ ∂   \n",
       "⎜∂x_                   ∂y_                   ∂z_                        ⎜────(\n",
       "⎜                                                                       ⎜   4 \n",
       "⎝                                                                       ⎝∂y_  \n",
       "\n",
       "                                                                              \n",
       "                                                                              \n",
       "                   4                        4                          4      \n",
       "                  ∂                        ∂                          ∂       \n",
       "P(x_, y_, z_)) + ────(P(x_, y_, z_)) + ─────────(P(x_, y_, z_)) + ─────────(P(\n",
       "                    4                     2    2                     2    2   \n",
       "                 ∂z_                   ∂y_  ∂x_                   ∂z_  ∂x_    \n",
       "\n",
       "                                                                              \n",
       "                                                                              \n",
       "                      4                         4                         4   \n",
       "                     ∂                         ∂                         ∂    \n",
       "x_, y_, z_)) + 2⋅─────────(P(x_, y_, z_)) - ────────(Q(x_, y_, z_)) - ────────\n",
       "                    2    2                     3                             3\n",
       "                 ∂z_  ∂y_                   ∂y_  ∂x_                  ∂y_ ∂x_ \n",
       "\n",
       "                                                                              \n",
       "                                                                              \n",
       "                      4                         4                           4 \n",
       "                     ∂                         ∂                           ∂  \n",
       "(Q(x_, y_, z_)) - ────────(R(x_, y_, z_)) - ────────(R(x_, y_, z_)) - ────────\n",
       "                     3                             3                     2    \n",
       "                  ∂z_  ∂x_                  ∂z_ ∂x_                   ∂z_  ∂y_\n",
       "\n",
       "                                                                              \n",
       "                                                                              \n",
       "                            4                    ⎞      ⎛  4                  \n",
       "                           ∂                     ⎟ i_ + ⎜ ∂                   \n",
       "────(Q(x_, y_, z_)) - ────────────(R(x_, y_, z_))⎟      ⎜────(Q(x_, y_, z_)) +\n",
       "                             2                   ⎟      ⎜   4                 \n",
       " ∂x_                  ∂z_ ∂y_  ∂x_               ⎠      ⎝∂x_                  \n",
       "\n",
       "                                                                              \n",
       "                                                                              \n",
       "   4                       4                         4                        \n",
       "  ∂                       ∂                         ∂                         \n",
       " ────(Q(x_, y_, z_)) - ────────(P(x_, y_, z_)) - ────────(P(x_, y_, z_)) + ───\n",
       "    4                     3                             3                     \n",
       " ∂z_                   ∂y_  ∂x_                  ∂y_ ∂x_                   ∂y_\n",
       "\n",
       "                                                                              \n",
       "                                                                              \n",
       "  4                            4                          4                   \n",
       " ∂                            ∂                          ∂                    \n",
       "──────(Q(x_, y_, z_)) + 2⋅─────────(Q(x_, y_, z_)) + ─────────(Q(x_, y_, z_)) \n",
       "2    2                       2    2                     2    2                \n",
       "  ∂x_                     ∂z_  ∂x_                   ∂z_  ∂y_                 \n",
       "\n",
       "                                                                              \n",
       "                                                                              \n",
       "      4                         4                           4                 \n",
       "     ∂                         ∂                           ∂                  \n",
       "- ────────(R(x_, y_, z_)) - ────────(R(x_, y_, z_)) - ────────────(P(x_, y_, z\n",
       "     3                             3                     2                    \n",
       "  ∂z_  ∂y_                  ∂z_ ∂y_                   ∂z_  ∂y_ ∂x_            \n",
       "\n",
       "                                                                              \n",
       "                                                                              \n",
       "            4                    ⎞      ⎛  4                     4            \n",
       "           ∂                     ⎟ j_ + ⎜ ∂                     ∂             \n",
       "_)) - ────────────(R(x_, y_, z_))⎟      ⎜────(R(x_, y_, z_)) + ────(R(x_, y_, \n",
       "                 2               ⎟      ⎜   4                     4           \n",
       "      ∂z_ ∂y_ ∂x_                ⎠      ⎝∂x_                   ∂y_            \n",
       "\n",
       "                                                                              \n",
       "                                                                              \n",
       "           4                         4                         4              \n",
       "          ∂                         ∂                         ∂               \n",
       "z_)) - ────────(P(x_, y_, z_)) - ────────(P(x_, y_, z_)) - ────────(Q(x_, y_, \n",
       "          3                             3                     3               \n",
       "       ∂z_  ∂x_                  ∂z_ ∂x_                   ∂z_  ∂y_           \n",
       "\n",
       "                                                                              \n",
       "                                                                              \n",
       "           4                            4                          4          \n",
       "          ∂                            ∂                          ∂           \n",
       "z_)) - ────────(Q(x_, y_, z_)) + 2⋅─────────(R(x_, y_, z_)) + ─────────(R(x_, \n",
       "              3                       2    2                     2    2       \n",
       "       ∂z_ ∂y_                     ∂y_  ∂x_                   ∂z_  ∂x_        \n",
       "\n",
       "                                                                              \n",
       "                                                                              \n",
       "                4                           4                             4   \n",
       "               ∂                           ∂                             ∂    \n",
       "y_, z_)) + ─────────(R(x_, y_, z_)) - ────────────(P(x_, y_, z_)) - ──────────\n",
       "              2    2                         2                                \n",
       "           ∂z_  ∂y_                   ∂z_ ∂y_  ∂x_                  ∂z_ ∂y_ ∂x\n",
       "\n",
       "                     ⎞\n",
       "                     ⎟\n",
       "                 ⎞   ⎟\n",
       "                 ⎟ k_⎟\n",
       "──(Q(x_, y_, z_))⎟   ⎟\n",
       " 2               ⎟   ⎟\n",
       "_                ⎠   ⎠"
      ]
     },
     "execution_count": 22,
     "metadata": {},
     "output_type": "execute_result"
    }
   ],
   "source": [
    "from sympy.vector import CoordSys3D, gradient, divergence, curl, dot\n",
    "C = CoordSys3D('')\n",
    "\n",
    "f = C.x * sin(C.x) * C.y**2\n",
    "g = C.x\n",
    "# type(C.x), type(C.j), type(x), type(f)\n",
    "\n",
    "f_grad = gradient(f)\n",
    "g_grad = gradient(g)\n",
    "\n",
    "f, f_grad, g_grad\n",
    "curl(f_grad), curl(g_grad) # del x (del*f) = 0\n",
    "\n",
    "f, P, Q, R = smp.symbols('f P Q R', cls=smp.Function)\n",
    "f = f(C.x, C.y, C.z)\n",
    "F = P(C.x, C.y, C.z)*C.i + Q(C.x, C.y, C.z)*C.j + R(C.x, C.y, C.z)*C.k\n",
    "\n",
    "laplace_op = divergence(gradient(f)) # Laplace operator\n",
    "div_curl = divergence(curl(F)) # div(curl) = 0 scalar\n",
    "curl_grad = curl(gradient(f)) # curl(grad) = 0 vector\n",
    "\n",
    "laplace_op, div_curl, curl_grad, curl(curl(curl(curl(F))))"
   ]
  },
  {
   "cell_type": "markdown",
   "metadata": {},
   "source": [
    "Directional derivative"
   ]
  },
  {
   "cell_type": "code",
   "execution_count": 23,
   "metadata": {},
   "outputs": [
    {
     "data": {
      "image/png": "[encoded data removed]",
      "text/latex": [
       "$\\displaystyle \\left( \\left(\\mathbf{{x}_{}} \\mathbf{{y}_{}}^{2} \\cos{\\left(\\mathbf{{x}_{}} \\right)} + \\mathbf{{y}_{}}^{2} \\sin{\\left(\\mathbf{{x}_{}} \\right)}\\right)\\mathbf{\\hat{i}_{}} + \\left(2 \\mathbf{{x}_{}} \\mathbf{{y}_{}} \\sin{\\left(\\mathbf{{x}_{}} \\right)}\\right)\\mathbf{\\hat{j}_{}}, \\  \\frac{2 \\sqrt{30} \\mathbf{{x}_{}} \\mathbf{{y}_{}} \\sin{\\left(\\mathbf{{x}_{}} \\right)}}{15} + \\frac{\\sqrt{30} \\left(\\mathbf{{x}_{}} \\mathbf{{y}_{}}^{2} \\cos{\\left(\\mathbf{{x}_{}} \\right)} + \\mathbf{{y}_{}}^{2} \\sin{\\left(\\mathbf{{x}_{}} \\right)}\\right)}{30}\\right)$"
      ],
      "text/plain": [
       "⎛                                                                             \n",
       "⎜                                                           2⋅√30⋅x_⋅y_⋅sin(x_\n",
       "⎜⎛     2             2        ⎞                           , ──────────────────\n",
       "⎝⎝x_⋅y_ ⋅cos(x_) + y_ ⋅sin(x_)⎠ i_  + (2⋅x_⋅y_⋅sin(x_)) j_           15       \n",
       "\n",
       "        ⎛     2             2        ⎞⎞\n",
       ")   √30⋅⎝x_⋅y_ ⋅cos(x_) + y_ ⋅sin(x_)⎠⎟\n",
       "─ + ──────────────────────────────────⎟\n",
       "                    30                ⎠"
      ]
     },
     "execution_count": 23,
     "metadata": {},
     "output_type": "execute_result"
    }
   ],
   "source": [
    "f = C.x*sin(C.x)*C.y**2\n",
    "g = C.x\n",
    "u = C.i*1 + C.j*2+ C.k*5\n",
    "gradient(f), dot(u.normalize(), gradient(f))"
   ]
  },
  {
   "cell_type": "markdown",
   "metadata": {},
   "source": [
    "LAMBDIFY VECTOR VALUED FUNCTION"
   ]
  },
  {
   "cell_type": "code",
   "execution_count": 24,
   "metadata": {},
   "outputs": [
    {
     "data": {
      "text/plain": [
       "array([[4],\n",
       "       [1],\n",
       "       [0]])"
      ]
     },
     "execution_count": 24,
     "metadata": {},
     "output_type": "execute_result"
    }
   ],
   "source": [
    "f = x**2*C.i + y**2*C.j\n",
    "f_lam = lambdify([x,y], f.to_matrix(C))\n",
    "f_lam(2, 1)"
   ]
  },
  {
   "cell_type": "markdown",
   "metadata": {},
   "source": [
    "Logistic DE"
   ]
  },
  {
   "cell_type": "code",
   "execution_count": 25,
   "metadata": {},
   "outputs": [
    {
     "name": "stdout",
     "output_type": "stream",
     "text": [
      "Eq(y_0, A*exp(A*C1 + k*x_0)/(exp(A*C1 + k*x_0) - 1))\n"
     ]
    },
    {
     "data": {
      "image/png": "[encoded data removed]",
      "text/latex": [
       "$\\displaystyle y{\\left(x \\right)} = - \\frac{A y_{0} e^{k x}}{\\left(A - y_{0}\\right) \\left(- \\frac{y_{0} e^{k x}}{A - y_{0}} - 1\\right)}$"
      ],
      "text/plain": [
       "                    k⋅x        \n",
       "             -A⋅y₀⋅ℯ           \n",
       "y(x) = ────────────────────────\n",
       "                ⎛      k⋅x    ⎞\n",
       "                ⎜  y₀⋅ℯ       ⎟\n",
       "       (A - y₀)⋅⎜- ─────── - 1⎟\n",
       "                ⎝   A - y₀    ⎠"
      ]
     },
     "execution_count": 25,
     "metadata": {},
     "output_type": "execute_result"
    }
   ],
   "source": [
    "y = smp.symbols('y', cls=smp.Function)\n",
    "x, k, A, x_0, y_0 = smp.symbols('x k A x_0 y_0')\n",
    "y = y(x)\n",
    "\n",
    "eq = y.diff(x) - k*y*(1-y/A)\n",
    "soln = smp.dsolve(eq, y)\n",
    "\n",
    "soln_subs = soln.subs({y:y_0, x:x_0})\n",
    "print(soln_subs)\n",
    "C1_value = smp.solve(soln_subs, smp.Symbol('C1'))[0]\n",
    "\n",
    "soln = soln.subs(smp.Symbol('C1'), C1_value)\n",
    "soln.subs('x_0', 0)"
   ]
  },
  {
   "cell_type": "markdown",
   "metadata": {},
   "source": [
    "Free fall with air resistance"
   ]
  },
  {
   "cell_type": "code",
   "execution_count": 26,
   "metadata": {},
   "outputs": [
    {
     "data": {
      "image/png": "[encoded data removed]",
      "text/latex": [
       "$\\displaystyle \\left( v{\\left(t \\right)} = \\frac{\\sqrt{g} \\sqrt{m}}{\\sqrt{k} \\tanh{\\left(\\sqrt{g} \\sqrt{k} \\left(C_{1} \\sqrt{m} + \\frac{t}{\\sqrt{m}}\\right) \\right)}}, \\  \\left[ \\frac{\\log{\\left(- \\sqrt{- \\frac{\\sqrt{g} \\sqrt{m} + \\sqrt{k} v_{0}}{\\sqrt{g} \\sqrt{m} - \\sqrt{k} v_{0}}} \\right)}}{\\sqrt{g} \\sqrt{k} \\sqrt{m}}, \\  \\frac{\\log{\\left(\\sqrt{- \\frac{\\sqrt{g} \\sqrt{m} + \\sqrt{k} v_{0}}{\\sqrt{g} \\sqrt{m} - \\sqrt{k} v_{0}}} \\right)}}{\\sqrt{g} \\sqrt{k} \\sqrt{m}}\\right]\\right)$"
      ],
      "text/plain": [
       "⎛                                    ⎡   ⎛     ___________________⎞     ⎛    _\n",
       "⎜                                    ⎢   ⎜    ╱ -(√g⋅√m + √k⋅v₀)  ⎟     ⎜   ╱ \n",
       "⎜                                    ⎢log⎜-  ╱  ───────────────── ⎟  log⎜  ╱  \n",
       "⎜                  √g⋅√m             ⎢   ⎝ ╲╱     √g⋅√m - √k⋅v₀   ⎠     ⎝╲╱   \n",
       "⎜v(t) = ───────────────────────────, ⎢─────────────────────────────, ─────────\n",
       "⎜              ⎛      ⎛        t ⎞⎞  ⎣           √g⋅√k⋅√m                     \n",
       "⎜       √k⋅tanh⎜√g⋅√k⋅⎜C₁⋅√m + ──⎟⎟                                           \n",
       "⎝              ⎝      ⎝        √m⎠⎠                                           \n",
       "\n",
       "__________________⎞⎤⎞\n",
       "-(√g⋅√m + √k⋅v₀)  ⎟⎥⎟\n",
       "───────────────── ⎟⎥⎟\n",
       "  √g⋅√m - √k⋅v₀   ⎠⎥⎟\n",
       "───────────────────⎥⎟\n",
       " √g⋅√k⋅√m          ⎦⎟\n",
       "                    ⎟\n",
       "                    ⎠"
      ]
     },
     "execution_count": 26,
     "metadata": {},
     "output_type": "execute_result"
    }
   ],
   "source": [
    "v = smp.symbols('v', cls=smp.Function)\n",
    "t, m, k, g, v_0 = smp.symbols('t m k g v_0')\n",
    "v = v(t)\n",
    "\n",
    "eq = m*v.diff(t) - m*g + k*v**2\n",
    "soln = dsolve(eq, v)\n",
    "soln_subs = soln.subs({t:0, v:v_0})\n",
    "\n",
    "C1_val = solve(soln_subs, smp.Symbol('C1'))\n",
    "# soln = soln.subs(smp.Symbol('C1'), C1_val)\n",
    "soln, C1_val"
   ]
  }
 ],
 "metadata": {
  "kernelspec": {
   "display_name": ".venv",
   "language": "python",
   "name": "python3"
  },
  "language_info": {
   "codemirror_mode": {
    "name": "ipython",
    "version": 3
   },
   "file_extension": ".py",
   "mimetype": "text/x-python",
   "name": "python",
   "nbconvert_exporter": "python",
   "pygments_lexer": "ipython3",
   "version": "3.12.2"
  }
 },
 "nbformat": 4,
 "nbformat_minor": 2
}
