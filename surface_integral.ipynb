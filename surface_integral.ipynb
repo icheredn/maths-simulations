{
 "cells": [
  {
   "cell_type": "markdown",
   "metadata": {},
   "source": [
    "Surface integral $$ \\iint_S{(x^2z+y^2z)dS}; S: x^2+y^2+z^2=4, z>0$$ \n",
    "\n",
    "True value = $16\\pi$ ~ $50.26548$"
   ]
  },
  {
   "cell_type": "code",
   "execution_count": 89,
   "metadata": {},
   "outputs": [
    {
     "name": "stdout",
     "output_type": "stream",
     "text": [
      "50.265477287656424\n"
     ]
    }
   ],
   "source": [
    "import numpy as np\n",
    "import matplotlib.pyplot as plt\n",
    "\"\"\"\n",
    "    Sample the hemisphere uniformly\n",
    "\"\"\"\n",
    "Phi = np.linspace(0, 2*np.pi, 5000) # azimuth angle\n",
    "Psi = np.linspace(0, np.pi/2, 5000) # zenith angle\n",
    "\n",
    "Phi, Psi = np.meshgrid(Phi, Psi)\n",
    "\n",
    "X = 2*np.cos(Phi)*np.sin(Psi)\n",
    "Y = 2*np.sin(Phi)*np.sin(Psi)\n",
    "Z = 2*np.cos(Psi)\n",
    "\n",
    "# fig, ax = plt.subplots(subplot_kw={'projection':'3d'})\n",
    "# ax.plot_surface(X, Y, Z, cmap='coolwarm')\n",
    "\n",
    "\n",
    "dS = np.sqrt(((X[1:,:-1] - X[1:, 1:])**2 + (Y[1:,:-1] - Y[1:, 1:])**2 + (Z[1:,:-1] - Z[1:, 1:])**2)) \\\n",
    "        * np.sqrt(((X[:-1,:-1] - X[1:, :-1])**2 + (Y[:-1,:-1] - Y[1:, :-1])**2 + (Z[:-1,:-1] - Z[1:, :-1])**2))\n",
    "\n",
    "F = Z[1:,:-1]*(X[1:,:-1]**2 + Y[1:,:-1]**2)\n",
    "\n",
    "print(np.sum(F*dS))"
   ]
  }
 ],
 "metadata": {
  "kernelspec": {
   "display_name": ".venv",
   "language": "python",
   "name": "python3"
  },
  "language_info": {
   "codemirror_mode": {
    "name": "ipython",
    "version": 3
   },
   "file_extension": ".py",
   "mimetype": "text/x-python",
   "name": "python",
   "nbconvert_exporter": "python",
   "pygments_lexer": "ipython3",
   "version": "3.12.2"
  }
 },
 "nbformat": 4,
 "nbformat_minor": 2
}
