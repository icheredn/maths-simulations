{
 "cells": [
  {
   "cell_type": "code",
   "execution_count": 1,
   "metadata": {},
   "outputs": [
    {
     "data": {
      "image/png": "[encoded data removed]",
      "text/latex": [
       "$\\displaystyle \\nu$"
      ],
      "text/plain": [
       "ν"
      ]
     },
     "execution_count": 1,
     "metadata": {},
     "output_type": "execute_result"
    }
   ],
   "source": [
    "import sympy as smp\n",
    "\n",
    "smp.init_printing(use_unicode=True, use_latex=True)\n",
    "\n",
    "x, y, lmb, nu, t = smp.symbols('x y lambda nu t')\n",
    "n = smp.symbols('n', natural=True)\n",
    "nu"
   ]
  },
  {
   "cell_type": "code",
   "execution_count": 2,
   "metadata": {},
   "outputs": [
    {
     "data": {
      "text/plain": [
       "sympy.core.add.Add"
      ]
     },
     "execution_count": 2,
     "metadata": {},
     "output_type": "execute_result"
    }
   ],
   "source": [
    "type(smp.expand((x**3 + 5)**3))"
   ]
  },
  {
   "cell_type": "code",
   "execution_count": 3,
   "metadata": {},
   "outputs": [
    {
     "data": {
      "text/plain": [
       "sympy.core.power.Pow"
      ]
     },
     "execution_count": 3,
     "metadata": {},
     "output_type": "execute_result"
    }
   ],
   "source": [
    "type(smp.factor(x**2 + 2*x*y + y**2))"
   ]
  },
  {
   "cell_type": "code",
   "execution_count": 4,
   "metadata": {},
   "outputs": [
    {
     "data": {
      "image/png": "[encoded data removed]",
      "text/latex": [
       "$\\displaystyle 1.7320508075688772935274463415058723669428052538104$"
      ],
      "text/plain": [
       "1.7320508075688772935274463415058723669428052538104"
      ]
     },
     "execution_count": 4,
     "metadata": {},
     "output_type": "execute_result"
    }
   ],
   "source": [
    "# NUMERIC EVALUATION\n",
    "smp.sqrt(x).subs({x:3}).evalf(50)\n",
    "\n",
    "# ALSO .n()"
   ]
  },
  {
   "cell_type": "code",
   "execution_count": 5,
   "metadata": {},
   "outputs": [
    {
     "data": {
      "image/png": "[encoded data removed]",
      "text/latex": [
       "$\\displaystyle \\frac{n \\left(n + 1\\right) \\left(2 n + 1\\right)}{6}$"
      ],
      "text/plain": [
       "n⋅(n + 1)⋅(2⋅n + 1)\n",
       "───────────────────\n",
       "         6         "
      ]
     },
     "execution_count": 5,
     "metadata": {},
     "output_type": "execute_result"
    }
   ],
   "source": [
    "#   SUMMATION\n",
    "smp.Sum('k**2', ('k', 1, n)).doit().factor()"
   ]
  },
  {
   "cell_type": "code",
   "execution_count": 6,
   "metadata": {},
   "outputs": [
    {
     "data": {
      "image/png": "[encoded data removed]",
      "text/latex": [
       "$\\displaystyle 0$"
      ],
      "text/plain": [
       "0"
      ]
     },
     "execution_count": 6,
     "metadata": {},
     "output_type": "execute_result"
    }
   ],
   "source": [
    "# LIMIT, INF\n",
    "smp.limit(smp.ln(x)/x, x, smp.oo)"
   ]
  },
  {
   "cell_type": "code",
   "execution_count": 7,
   "metadata": {},
   "outputs": [
    {
     "data": {
      "image/png": "[encoded data removed]",
      "text/latex": [
       "$\\displaystyle e$"
      ],
      "text/plain": [
       "ℯ"
      ]
     },
     "execution_count": 7,
     "metadata": {},
     "output_type": "execute_result"
    }
   ],
   "source": [
    "# !!!!!!\n",
    "expr = n / smp.factorial(n)**(1/n)\n",
    "smp.limit(expr, n , smp.oo)\n",
    "#type(smp.oo)"
   ]
  },
  {
   "cell_type": "code",
   "execution_count": 8,
   "metadata": {},
   "outputs": [
    {
     "data": {
      "image/png": "[encoded data removed]",
      "text/latex": [
       "$\\displaystyle 2 x e^{x^{2}}$"
      ],
      "text/plain": [
       "     ⎛ 2⎞\n",
       "     ⎝x ⎠\n",
       "2⋅x⋅ℯ    "
      ]
     },
     "execution_count": 8,
     "metadata": {},
     "output_type": "execute_result"
    }
   ],
   "source": [
    "# DERIVATIVE\n",
    "smp.diff(smp.E**x**2)"
   ]
  },
  {
   "cell_type": "code",
   "execution_count": 9,
   "metadata": {},
   "outputs": [
    {
     "data": {
      "image/png": "[encoded data removed]",
      "text/latex": [
       "$\\displaystyle x \\left(\\log{\\left(x \\right)} - 1\\right)$"
      ],
      "text/plain": [
       "x⋅(log(x) - 1)"
      ]
     },
     "execution_count": 9,
     "metadata": {},
     "output_type": "execute_result"
    }
   ],
   "source": [
    "# INTEGRAL, FACTOR\n",
    "smp.integrate(smp.ln(x), x).factor()"
   ]
  },
  {
   "cell_type": "code",
   "execution_count": 10,
   "metadata": {},
   "outputs": [
    {
     "data": {
      "image/png": "[encoded data removed]",
      "text/latex": [
       "$\\displaystyle \\frac{\\sqrt{\\pi} \\operatorname{erfi}{\\left(x \\right)}}{2}$"
      ],
      "text/plain": [
       "√π⋅erfi(x)\n",
       "──────────\n",
       "    2     "
      ]
     },
     "execution_count": 10,
     "metadata": {},
     "output_type": "execute_result"
    }
   ],
   "source": [
    "smp.integrate(smp.E**(x**2), x)"
   ]
  },
  {
   "cell_type": "code",
   "execution_count": 11,
   "metadata": {},
   "outputs": [
    {
     "data": {
      "image/png": "[encoded data removed]",
      "text/latex": [
       "$\\displaystyle \\int\\limits_{-1}^{5} \\left(t + y\\right)\\, dy$"
      ],
      "text/plain": [
       "5            \n",
       "⌠            \n",
       "⎮  (t + y) dy\n",
       "⌡            \n",
       "-1           "
      ]
     },
     "execution_count": 11,
     "metadata": {},
     "output_type": "execute_result"
    }
   ],
   "source": [
    "# UNEVALUATED INTEGRAL AS AN OBJECT\n",
    "smp.Integral(y+t, (y, -1, 5))"
   ]
  },
  {
   "cell_type": "code",
   "execution_count": 12,
   "metadata": {},
   "outputs": [
    {
     "data": {
      "image/png": "[encoded data removed]",
      "text/latex": [
       "$\\displaystyle \\sqrt{\\pi}$"
      ],
      "text/plain": [
       "√π"
      ]
     },
     "execution_count": 12,
     "metadata": {},
     "output_type": "execute_result"
    }
   ],
   "source": [
    "#GAUSS INTEGRAL\n",
    "smp.Integral(smp.E**-x**2, (x,-smp.oo, smp.oo)).doit()"
   ]
  },
  {
   "cell_type": "code",
   "execution_count": 13,
   "metadata": {},
   "outputs": [
    {
     "data": {
      "image/png": "[encoded data removed]",
      "text/latex": [
       "$\\displaystyle \\left(\\frac{d}{d x} f{\\left(x \\right)} + 1\\right) \\left. \\frac{d}{d \\xi_{1}} g{\\left(\\xi_{1} \\right)} \\right|_{\\substack{ \\xi_{1}=x + f{\\left(x \\right)} }}$"
      ],
      "text/plain": [
       "⎛d           ⎞ ⎛ d        ⎞│           \n",
       "⎜──(f(x)) + 1⎟⋅⎜───(g(ξ₁))⎟│           \n",
       "⎝dx          ⎠ ⎝dξ₁       ⎠│ξ₁=x + f(x)"
      ]
     },
     "execution_count": 13,
     "metadata": {},
     "output_type": "execute_result"
    }
   ],
   "source": [
    "#FUNCTIONS, ABSTRACT DERIVATIVES\n",
    "f, g = smp.symbols('f g', cls=smp.Function)\n",
    "f = f(x)\n",
    "g = g(f + x)\n",
    "smp.diff(g)"
   ]
  },
  {
   "cell_type": "markdown",
   "metadata": {},
   "source": [
    "SOLVE ALGEBRAIC, DEs.  RETURNS Eq OBJECT WITH lhs AND rhs"
   ]
  },
  {
   "cell_type": "code",
   "execution_count": 14,
   "metadata": {},
   "outputs": [
    {
     "data": {
      "image/png": "[encoded data removed]",
      "text/latex": [
       "$\\displaystyle e C_{2} + C_{3} \\sin{\\left(1 \\right)} + C_{4} \\cos{\\left(1 \\right)} + e^{-1}$"
      ],
      "text/plain": [
       "                                -1\n",
       "ℯ⋅C₂ + C₃⋅sin(1) + C₄⋅cos(1) + ℯ  "
      ]
     },
     "execution_count": 14,
     "metadata": {},
     "output_type": "execute_result"
    }
   ],
   "source": [
    "#smp.solve(x**2 + 4, x)\n",
    "equality_object = smp.dsolve(smp.Eq(f.diff(x, x, x, x), f), f)\n",
    "equality_object.rhs.subs({x:1, 'C1':1}) # create symbols on the fly from strings"
   ]
  },
  {
   "cell_type": "markdown",
   "metadata": {},
   "source": [
    "SERIES EXPANSION AND EVALUATION, PLOTTING"
   ]
  },
  {
   "cell_type": "code",
   "execution_count": 15,
   "metadata": {},
   "outputs": [
    {
     "data": {
      "image/png": "[encoded data removed]",
      "text/plain": [
       "<Figure size 640x480 with 1 Axes>"
      ]
     },
     "metadata": {},
     "output_type": "display_data"
    },
    {
     "data": {
      "text/plain": [
       "<matplotlib.collections.PathCollection at 0x1a8776c2420>"
      ]
     },
     "execution_count": 15,
     "metadata": {},
     "output_type": "execute_result"
    },
    {
     "data": {
      "image/png": "[encoded data removed]",
      "text/plain": [
       "<Figure size 640x480 with 1 Axes>"
      ]
     },
     "metadata": {},
     "output_type": "display_data"
    }
   ],
   "source": [
    "#smp.pretty_print(smp.sin(x).series(x, x0 = 3, n=10).evalf(3).removeO())\n",
    "\n",
    "#smp.sin(x).series(x, x0=3, n=10).removeO().expand().evalf()\n",
    "\n",
    "approx_sin = smp.sin(x).series(x, x0=3, n=5).removeO().expand().collect(x)\n",
    "\n",
    "\n",
    "import matplotlib.pyplot as plt\n",
    "\n",
    "# plot approx_sin\n",
    "a, b = 0, 6\n",
    "N = 50\n",
    "x_partition = [a + i*(b-a)/N for i in range(N)]\n",
    "plt.plot(x_partition, [approx_sin.subs({x:t}).evalf(3) for t in x_partition], label='approx_sin')\n",
    "plt.plot(x_partition, [smp.sin(x).subs({x:t}).evalf(3) for t in x_partition], label='sin', color='g')\n",
    "plt.legend(loc='best')\n",
    "plt.show()\n",
    "\n",
    "roots_unity5 = smp.solve(x**5 - 1, x)\n",
    "real_im_list = [(smp.re(z), smp.im(z)) for z in roots_unity5]\n",
    "real_im_list\n",
    "plt.scatter([inner[0] for inner in real_im_list[0:]], [inner[1] for inner in real_im_list[0:]])\n"
   ]
  },
  {
   "cell_type": "markdown",
   "metadata": {},
   "source": [
    "<h1>LINEAR EQUATIONS, MATRICES</h1>"
   ]
  },
  {
   "cell_type": "markdown",
   "metadata": {},
   "source": [
    "<b>Method 1</b>: <b>INVERSION</b>"
   ]
  },
  {
   "cell_type": "code",
   "execution_count": 16,
   "metadata": {},
   "outputs": [
    {
     "data": {
      "image/png": "[encoded data removed]",
      "text/latex": [
       "$\\displaystyle \\left( \\left[\\begin{matrix}- 10 z\\\\11 z\\end{matrix}\\right], \\  \\left[\\begin{matrix}0\\\\0\\end{matrix}\\right]\\right)$"
      ],
      "text/plain": [
       "⎛⎡-10⋅z⎤  ⎡0⎤⎞\n",
       "⎜⎢     ⎥, ⎢ ⎥⎟\n",
       "⎝⎣11⋅z ⎦  ⎣0⎦⎠"
      ]
     },
     "execution_count": 16,
     "metadata": {},
     "output_type": "execute_result"
    }
   ],
   "source": [
    "A = smp.Matrix([[1,2], [4,5]])\n",
    "z = smp.symbols('z')\n",
    "b = smp.Matrix([12*z, 15*z])\n",
    "\n",
    "x = A.inv()*b\n",
    "x, A*x - b"
   ]
  },
  {
   "cell_type": "markdown",
   "metadata": {},
   "source": [
    "<b>Method 2</b>: <b>Augmented system, solve_linear_system</b><br>\n",
    "Provide output variables"
   ]
  },
  {
   "cell_type": "code",
   "execution_count": 17,
   "metadata": {},
   "outputs": [
    {
     "name": "stdout",
     "output_type": "stream",
     "text": [
      "-10  11  "
     ]
    }
   ],
   "source": [
    "A_b = smp.Matrix([[A, b]])\n",
    "A_b\n",
    "A_b.subs({z:1})\n",
    "\n",
    "sol = smp.solve_linear_system(A_b,smp.Symbol('x1'),smp.Symbol('x2'))\n",
    "for s in sol:\n",
    "    print(sol[s].subs({z:1}), end='  ')"
   ]
  },
  {
   "cell_type": "markdown",
   "metadata": {},
   "source": [
    "<b>Method 3</b>: <b>Solve</b><br>"
   ]
  },
  {
   "cell_type": "code",
   "execution_count": 18,
   "metadata": {},
   "outputs": [
    {
     "data": {
      "image/png": "[encoded data removed]",
      "text/latex": [
       "$\\displaystyle \\left\\{ x : - 10 z, \\  y : 11 z\\right\\}$"
      ],
      "text/plain": [
       "{x: -10⋅z, y: 11⋅z}"
      ]
     },
     "execution_count": 18,
     "metadata": {},
     "output_type": "execute_result"
    }
   ],
   "source": [
    "x = smp.Symbol('x')\n",
    "smp.solve([1*x + 2*y - 12*z, 4*x + 5*y - 15*z], x, y)"
   ]
  },
  {
   "cell_type": "markdown",
   "metadata": {},
   "source": [
    "<h1>Non-linear equations</h1>"
   ]
  },
  {
   "cell_type": "code",
   "execution_count": 19,
   "metadata": {},
   "outputs": [
    {
     "name": "stdout",
     "output_type": "stream",
     "text": [
      "\\left[ \\left\\{ x : - \\frac{\\sqrt{2}}{2}, \\  y : - \\frac{\\sqrt{2}}{2}\\right\\}, \\  \\left\\{ x : \\frac{\\sqrt{2}}{2}, \\  y : \\frac{\\sqrt{2}}{2}\\right\\}\\right]\n"
     ]
    },
    {
     "data": {
      "image/png": "[encoded data removed]",
      "text/latex": [
       "$\\displaystyle \\left[ \\left\\{ x : - \\frac{\\sqrt{2}}{2}, \\  y : - \\frac{\\sqrt{2}}{2}\\right\\}, \\  \\left\\{ x : \\frac{\\sqrt{2}}{2}, \\  y : \\frac{\\sqrt{2}}{2}\\right\\}\\right]$"
      ],
      "text/plain": [
       "⎡⎧   -√2      -√2 ⎫  ⎧   √2     √2⎫⎤\n",
       "⎢⎨x: ────, y: ────⎬, ⎨x: ──, y: ──⎬⎥\n",
       "⎣⎩    2        2  ⎭  ⎩   2      2 ⎭⎦"
      ]
     },
     "execution_count": 19,
     "metadata": {},
     "output_type": "execute_result"
    }
   ],
   "source": [
    "# LOGARITHM\n",
    "sol = smp.solve([x-10-smp.ln(x)])\n",
    "sol\n",
    "[s[x].doit().evalf() for s in sol]\n",
    "\n",
    "#CIRCLE\n",
    "soln = smp.solve([x**2+y**2-1, x-y])\n",
    "\n",
    "#LATEX CODE GENERATION\n",
    "print(smp.latex(soln))\n",
    "soln"
   ]
  },
  {
   "cell_type": "markdown",
   "metadata": {},
   "source": [
    "<h1>C code generation</h1>"
   ]
  },
  {
   "cell_type": "code",
   "execution_count": 20,
   "metadata": {},
   "outputs": [
    {
     "name": "stdout",
     "output_type": "stream",
     "text": [
      "/******************************************************************************\n",
      " *                      Code generated with SymPy 1.12.1                      *\n",
      " *                                                                            *\n",
      " *              See http://www.sympy.org/ for more information.               *\n",
      " *                                                                            *\n",
      " *                       This file is part of 'project'                       *\n",
      " ******************************************************************************/\n",
      "#include \"taylor_sine.h\"\n",
      "#include <math.h>\n",
      "\n",
      "double taylor_sine(double x) {\n",
      "\n",
      "   double taylor_sine_result;\n",
      "   taylor_sine_result = x - 1.0/6.0*pow(x, 3) + (1.0/120.0)*pow(x, 5) + O(x**6);\n",
      "   return taylor_sine_result;\n",
      "\n",
      "}\n",
      "\n"
     ]
    }
   ],
   "source": [
    "from sympy.utilities.codegen import codegen\n",
    "x = smp.Symbol('x')                                                                                                          \n",
    "smp.sin(x).series(x, 0, 6)\n",
    "\n",
    "print(codegen((\"taylor_sine\",smp.sin(x).series(x,0,6)), language='C')[0][1])"
   ]
  }
 ],
 "metadata": {
  "kernelspec": {
   "display_name": ".venv",
   "language": "python",
   "name": "python3"
  },
  "language_info": {
   "codemirror_mode": {
    "name": "ipython",
    "version": 3
   },
   "file_extension": ".py",
   "mimetype": "text/x-python",
   "name": "python",
   "nbconvert_exporter": "python",
   "pygments_lexer": "ipython3",
   "version": "3.12.2"
  }
 },
 "nbformat": 4,
 "nbformat_minor": 2
}
