{
 "cells": [
  {
   "cell_type": "code",
   "execution_count": null,
   "metadata": {},
   "outputs": [],
   "source": [
    "import sympy as smp\n",
    "\n",
    "smp.init_printing(use_unicode=True, use_latex=True)\n",
    "\n",
    "x, y, lmb, nu, t = smp.symbols('x y lambda nu t')\n",
    "n = smp.symbols('n', natural=True)\n",
    "nu"
   ]
  },
  {
   "cell_type": "code",
   "execution_count": null,
   "metadata": {},
   "outputs": [],
   "source": [
    "type(smp.expand((x**3 + 5)**3))"
   ]
  },
  {
   "cell_type": "code",
   "execution_count": null,
   "metadata": {},
   "outputs": [],
   "source": [
    "type(smp.factor(x**2 + 2*x*y + y**2))"
   ]
  },
  {
   "cell_type": "code",
   "execution_count": null,
   "metadata": {},
   "outputs": [],
   "source": [
    "# NUMERIC EVALUATION\n",
    "smp.sqrt(x).subs({x:3}).evalf(50)\n",
    "\n",
    "# ALSO .n()"
   ]
  },
  {
   "cell_type": "code",
   "execution_count": null,
   "metadata": {},
   "outputs": [],
   "source": [
    "#   SUMMATION\n",
    "smp.Sum('k**2', ('k', 1, n)).doit().factor()"
   ]
  },
  {
   "cell_type": "code",
   "execution_count": null,
   "metadata": {},
   "outputs": [],
   "source": [
    "# LIMIT, INF\n",
    "smp.limit(smp.ln(x)/x, x, smp.oo)"
   ]
  },
  {
   "cell_type": "code",
   "execution_count": null,
   "metadata": {},
   "outputs": [],
   "source": [
    "# !!!!!!\n",
    "expr = n / smp.factorial(n)**(1/n)\n",
    "smp.limit(expr, n , smp.oo)\n",
    "#type(smp.oo)"
   ]
  },
  {
   "cell_type": "code",
   "execution_count": null,
   "metadata": {},
   "outputs": [],
   "source": [
    "# DERIVATIVE\n",
    "smp.diff(smp.E**x**2)"
   ]
  },
  {
   "cell_type": "code",
   "execution_count": null,
   "metadata": {},
   "outputs": [],
   "source": [
    "# INTEGRAL, FACTOR\n",
    "smp.integrate(smp.ln(x), x).factor()"
   ]
  },
  {
   "cell_type": "code",
   "execution_count": null,
   "metadata": {},
   "outputs": [],
   "source": [
    "smp.integrate(smp.E**(x**2), x)"
   ]
  },
  {
   "cell_type": "code",
   "execution_count": null,
   "metadata": {},
   "outputs": [],
   "source": [
    "# UNEVALUATED INTEGRAL AS AN OBJECT\n",
    "smp.Integral(y+t, (y, -1, 5))"
   ]
  },
  {
   "cell_type": "code",
   "execution_count": null,
   "metadata": {},
   "outputs": [],
   "source": [
    "#GAUSS INTEGRAL\n",
    "smp.Integral(smp.E**-x**2, (x,-smp.oo, smp.oo)).doit()"
   ]
  },
  {
   "cell_type": "code",
   "execution_count": null,
   "metadata": {},
   "outputs": [],
   "source": [
    "#FUNCTIONS, ABSTRACT DERIVATIVES\n",
    "f, g = smp.symbols('f g', cls=smp.Function)\n",
    "f = f(x)\n",
    "g = g(f + x)\n",
    "smp.diff(g)"
   ]
  },
  {
   "cell_type": "markdown",
   "metadata": {},
   "source": [
    "SOLVE ALGEBRAIC, DEs.  RETURNS Eq OBJECT WITH lhs AND rhs"
   ]
  },
  {
   "cell_type": "code",
   "execution_count": null,
   "metadata": {},
   "outputs": [],
   "source": [
    "#smp.solve(x**2 + 4, x)\n",
    "equality_object = smp.dsolve(smp.Eq(f.diff(x, x, x, x), f), f)\n",
    "equality_object.rhs.subs({x:1, 'C1':1}) # create symbols on the fly from strings"
   ]
  },
  {
   "cell_type": "markdown",
   "metadata": {},
   "source": [
    "SERIES EXPANSION AND EVALUATION, PLOTTING"
   ]
  },
  {
   "cell_type": "code",
   "execution_count": null,
   "metadata": {},
   "outputs": [],
   "source": [
    "#smp.pretty_print(smp.sin(x).series(x, x0 = 3, n=10).evalf(3).removeO())\n",
    "\n",
    "#smp.sin(x).series(x, x0=3, n=10).removeO().expand().evalf()\n",
    "\n",
    "approx_sin = smp.sin(x).series(x, x0=3, n=5).removeO().expand().collect(x)\n",
    "\n",
    "\n",
    "import matplotlib.pyplot as plt\n",
    "\n",
    "# plot approx_sin\n",
    "a, b = 0, 6\n",
    "N = 50\n",
    "x_partition = [a + i*(b-a)/N for i in range(N)]\n",
    "plt.plot(x_partition, [approx_sin.subs({x:t}).evalf(3) for t in x_partition], label='approx_sin')\n",
    "plt.plot(x_partition, [smp.sin(x).subs({x:t}).evalf(3) for t in x_partition], label='sin', color='g')\n",
    "plt.legend(loc='best')\n",
    "plt.show()\n",
    "\n",
    "roots_unity5 = smp.solve(x**5 - 1, x)\n",
    "real_im_list = [(smp.re(z), smp.im(z)) for z in roots_unity5]\n",
    "real_im_list\n",
    "plt.scatter([inner[0] for inner in real_im_list[0:]], [inner[1] for inner in real_im_list[0:]])\n"
   ]
  },
  {
   "cell_type": "markdown",
   "metadata": {},
   "source": [
    "<h1>LINEAR EQUATIONS, MATRICES</h1>"
   ]
  },
  {
   "cell_type": "markdown",
   "metadata": {},
   "source": [
    "<b>Method 1</b>: <b>INVERSION</b>"
   ]
  },
  {
   "cell_type": "code",
   "execution_count": null,
   "metadata": {},
   "outputs": [],
   "source": [
    "A = smp.Matrix([[1,2], [4,5]])\n",
    "z = smp.symbols('z')\n",
    "b = smp.Matrix([12*z, 15*z])\n",
    "\n",
    "x = A.inv()*b\n",
    "x, A*x - b"
   ]
  },
  {
   "cell_type": "markdown",
   "metadata": {},
   "source": [
    "<b>Method 2</b>: <b>Augmented system, solve_linear_system</b><br>\n",
    "Provide output variables"
   ]
  },
  {
   "cell_type": "code",
   "execution_count": null,
   "metadata": {},
   "outputs": [],
   "source": [
    "A_b = smp.Matrix([[A, b]])\n",
    "A_b\n",
    "A_b.subs({z:1})\n",
    "\n",
    "sol = smp.solve_linear_system(A_b,smp.Symbol('x1'),smp.Symbol('x2'))\n",
    "for s in sol:\n",
    "    print(sol[s].subs({z:1}), end='  ')"
   ]
  },
  {
   "cell_type": "markdown",
   "metadata": {},
   "source": [
    "<b>Method 3</b>: <b>Solve</b><br>"
   ]
  },
  {
   "cell_type": "code",
   "execution_count": null,
   "metadata": {},
   "outputs": [],
   "source": [
    "x = smp.Symbol('x')\n",
    "smp.solve([1*x + 2*y - 12*z, 4*x + 5*y - 15*z], x, y)"
   ]
  },
  {
   "cell_type": "markdown",
   "metadata": {},
   "source": [
    "<h1>Non-linear equations</h1>"
   ]
  },
  {
   "cell_type": "code",
   "execution_count": null,
   "metadata": {},
   "outputs": [],
   "source": [
    "# LOGARITHM\n",
    "sol = smp.solve([x-10-smp.ln(x)])\n",
    "sol\n",
    "[s[x].doit().evalf() for s in sol]\n",
    "\n",
    "#CIRCLE\n",
    "soln = smp.solve([x**2+y**2-1, x-y])\n",
    "\n",
    "#LATEX CODE GENERATION\n",
    "print(smp.latex(soln))\n",
    "soln"
   ]
  },
  {
   "cell_type": "markdown",
   "metadata": {},
   "source": [
    "<h1>C code generation</h1>"
   ]
  },
  {
   "cell_type": "code",
   "execution_count": null,
   "metadata": {},
   "outputs": [],
   "source": [
    "from sympy.utilities.codegen import codegen\n",
    "x = smp.Symbol('x')                                                                                                          \n",
    "smp.sin(x).series(x, 0, 6)\n",
    "\n",
    "print(codegen((\"taylor_sine\",smp.sin(x).series(x,0,6)), language='C')[0][1])"
   ]
  }
 ],
 "metadata": {
  "kernelspec": {
   "display_name": ".venv",
   "language": "python",
   "name": "python3"
  },
  "language_info": {
   "codemirror_mode": {
    "name": "ipython",
    "version": 3
   },
   "file_extension": ".py",
   "mimetype": "text/x-python",
   "name": "python",
   "nbconvert_exporter": "python",
   "pygments_lexer": "ipython3",
   "version": "3.12.2"
  }
 },
 "nbformat": 4,
 "nbformat_minor": 2
}
